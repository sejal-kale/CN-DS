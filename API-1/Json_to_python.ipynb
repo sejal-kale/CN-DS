{
 "cells": [
  {
   "cell_type": "code",
   "execution_count": 2,
   "metadata": {},
   "outputs": [
    {
     "name": "stdout",
     "output_type": "stream",
     "text": [
      "<class 'str'>\n",
      "<class 'dict'>\n",
      "Sejal\n"
     ]
    }
   ],
   "source": [
    "import json\n",
    "\n",
    "json_data='{\"student\" :\"Sejal\"}'\n",
    "python_data=json.loads(json_data)\n",
    "\n",
    "print(type(json_data))\n",
    "print(type(python_data))\n",
    "print(python_data['student'])"
   ]
  },
  {
   "cell_type": "code",
   "execution_count": 8,
   "metadata": {},
   "outputs": [
    {
     "name": "stdout",
     "output_type": "stream",
     "text": [
      "101\n",
      "<class 'int'>\n"
     ]
    }
   ],
   "source": [
    "json_data='{\"rollNo\" :101}'\n",
    "python_data=json.loads(json_data)\n",
    "print(python_data['rollNo'])\n",
    "print(type(python_data['rollNo']))\n"
   ]
  },
  {
   "cell_type": "code",
   "execution_count": 9,
   "metadata": {},
   "outputs": [
    {
     "name": "stdout",
     "output_type": "stream",
     "text": [
      "None\n",
      "<class 'NoneType'>\n"
     ]
    }
   ],
   "source": [
    "json_data='{\"rollNo\" :null}'\n",
    "python_data=json.loads(json_data)\n",
    "print(python_data['rollNo'])\n",
    "print(type(python_data['rollNo']))\n"
   ]
  },
  {
   "cell_type": "code",
   "execution_count": 14,
   "metadata": {},
   "outputs": [
    {
     "name": "stdout",
     "output_type": "stream",
     "text": [
      "Sejal Kale\n",
      "100\n"
     ]
    }
   ],
   "source": [
    "json_data='{\"student\" :{\"rollNo\" :100,\"name\" : \"Sejal Kale\"}}'\n",
    "python_data=json.loads(json_data)\n",
    "\n",
    "student_detail=python_data['student']\n",
    "\n",
    "print(student_detail[\"name\"])\n",
    "print(student_detail['rollNo'])\n"
   ]
  },
  {
   "cell_type": "code",
   "execution_count": 16,
   "metadata": {},
   "outputs": [
    {
     "name": "stdout",
     "output_type": "stream",
     "text": [
      "['Apple', 'Mango', 'Orange', 'Banana']\n"
     ]
    }
   ],
   "source": [
    "json_data='{\"Fruits\":[\"Apple\",\"Mango\",\"Orange\",\"Banana\"]}'\n",
    "python_data=json.loads(json_data)\n",
    "\n",
    "fruit=python_data['Fruits']\n",
    "for i in fruit:\n",
    "    print(i)"
   ]
  },
  {
   "cell_type": "code",
   "execution_count": null,
   "metadata": {},
   "outputs": [],
   "source": []
  }
 ],
 "metadata": {
  "kernelspec": {
   "display_name": "Python 3.10.5 64-bit",
   "language": "python",
   "name": "python3"
  },
  "language_info": {
   "codemirror_mode": {
    "name": "ipython",
    "version": 3
   },
   "file_extension": ".py",
   "mimetype": "text/x-python",
   "name": "python",
   "nbconvert_exporter": "python",
   "pygments_lexer": "ipython3",
   "version": "3.10.5"
  },
  "orig_nbformat": 4,
  "vscode": {
   "interpreter": {
    "hash": "213524bb45a1aeaf737b1d8c77d7b8db5d425938d9dffc5f4bc6fe6dd3324700"
   }
  }
 },
 "nbformat": 4,
 "nbformat_minor": 2
}
