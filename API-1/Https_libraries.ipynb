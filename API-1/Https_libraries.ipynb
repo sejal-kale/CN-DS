{
 "cells": [
  {
   "cell_type": "code",
   "execution_count": null,
   "metadata": {},
   "outputs": [],
   "source": [
    "# request is the Http libray written in python\n",
    "import requests\n",
    "\n",
    "response=requests.get(\"https://codingninjas.in/api/v3/courses\")\n"
   ]
  },
  {
   "cell_type": "markdown",
   "metadata": {},
   "source": [
    "##### response object attribute\n",
    "-   status code \n",
    "    - 200 successful\n",
    "    - 404 failed\n",
    "-   encoding\n",
    "-   url\n",
    "-   text\n",
    "-   headers\n"
   ]
  },
  {
   "cell_type": "code",
   "execution_count": null,
   "metadata": {},
   "outputs": [],
   "source": [
    "# check status code\n",
    "print(response.status_code)"
   ]
  }
 ],
 "metadata": {
  "language_info": {
   "name": "python"
  },
  "orig_nbformat": 4
 },
 "nbformat": 4,
 "nbformat_minor": 2
}
